{
 "cells": [
  {
   "cell_type": "code",
   "execution_count": 15,
   "metadata": {},
   "outputs": [],
   "source": [
    "import pandas as pd\n",
    "import numpy as np\n",
    "from sklearn.linear_model import LogisticRegression\n",
    "from sklearn.neighbors import KNeighborsClassifier\n",
    "from sklearn.cross_validation import train_test_split\n",
    "from sklearn.cross_validation import cross_val_score\n",
    "from sklearn.grid_search import RandomizedSearchCV\n",
    "from sklearn.grid_search import GridSearchCV\n",
    "from sklearn import metrics\n",
    "import matplotlib.pyplot as plt\n"
   ]
  },
  {
   "cell_type": "code",
   "execution_count": 9,
   "metadata": {},
   "outputs": [
    {
     "data": {
      "text/plain": [
       "'\\nCOLUMNS = [\\'gx\\',\\'gy\\',\\'gz\\', \\'tax\\', \\'tay\\', \\'taz\\']\\n\\nX_train = pd.DataFrame(COLUMNS)\\nfor i in range(0,6):\\n    X_train[i] = pd.read_csv(\\'data/train/\\'+INPUT_DATA[3+i]+\\'train.txt\\', sep=\" \", header=None)\\n    X_test[i] = pd.read_csv(\\'data/test/\\'+INPUT_DATA[3+i]+\\'test.txt\\', sep=\" \", header=None)\\n\\n\\n\\n#X_train = pd.read_csv(\\'data/X_train.txt\\', sep=\" \", header=None)\\nY_train = pd.read_csv(\\'data/Y_train.txt\\', sep=\" \", header=None)\\n\\n#X_test = pd.read_csv(\\'data/X_test.txt\\', sep=\" \", header=None)\\nY_test = pd.read_csv(\\'data/Y_test.txt\\', sep=\" \", header=None)\\n\\nprint(X_train.shape)\\nprint(Y_train.shape)\\nprint(X_test.shape)\\nprint(Y_test.shape)\\n\\nX_train.head()\\nY_train.head()\\n\\nX = X_train[0:1000]\\nY = Y_train[0:1000]\\nXt = X_test[0:300]\\nYt = Y_test[0:300]\\n\\nprint(X.shape)\\nprint(Y.shape)\\nprint(Xt.shape)\\nprint(Yt.shape)\\n'"
      ]
     },
     "execution_count": 9,
     "metadata": {},
     "output_type": "execute_result"
    }
   ],
   "source": [
    "INPUT_DATA = [\n",
    "    \"body_acc_x_\",\n",
    "    \"body_acc_y_\",\n",
    "    \"body_acc_z_\",\n",
    "    \"body_gyro_x_\",\n",
    "    \"body_gyro_y_\",\n",
    "    \"body_gyro_z_\",\n",
    "    \"total_acc_x_\",\n",
    "    \"total_acc_y_\",\n",
    "    \"total_acc_z_\"\n",
    "]\n",
    "\n",
    "LABELS = [\n",
    "    \"WALKING\", \n",
    "    \"WALKING_UPSTAIRS\", \n",
    "    \"WALKING_DOWNSTAIRS\", \n",
    "    \"SITTING\", \n",
    "    \"STANDING\", \n",
    "    \"LAYING\"\n",
    "] \n",
    "\n",
    "TRAINING_SIZE = 1000\n",
    "TESTING_SIZE = 300\n",
    "\n",
    "'''\n",
    "COLUMNS = ['gx','gy','gz', 'tax', 'tay', 'taz']\n",
    "\n",
    "X_train = pd.DataFrame(COLUMNS)\n",
    "for i in range(0,6):\n",
    "    X_train[i] = pd.read_csv('data/train/'+INPUT_DATA[3+i]+'train.txt', sep=\" \", header=None)\n",
    "    X_test[i] = pd.read_csv('data/test/'+INPUT_DATA[3+i]+'test.txt', sep=\" \", header=None)\n",
    "\n",
    "\n",
    "\n",
    "#X_train = pd.read_csv('data/X_train.txt', sep=\" \", header=None)\n",
    "Y_train = pd.read_csv('data/Y_train.txt', sep=\" \", header=None)\n",
    "\n",
    "#X_test = pd.read_csv('data/X_test.txt', sep=\" \", header=None)\n",
    "Y_test = pd.read_csv('data/Y_test.txt', sep=\" \", header=None)\n",
    "\n",
    "print(X_train.shape)\n",
    "print(Y_train.shape)\n",
    "print(X_test.shape)\n",
    "print(Y_test.shape)\n",
    "\n",
    "X_train.head()\n",
    "Y_train.head()\n",
    "\n",
    "X = X_train[0:1000]\n",
    "Y = Y_train[0:1000]\n",
    "Xt = X_test[0:300]\n",
    "Yt = Y_test[0:300]\n",
    "\n",
    "print(X.shape)\n",
    "print(Y.shape)\n",
    "print(Xt.shape)\n",
    "print(Yt.shape)\n",
    "'''"
   ]
  },
  {
   "cell_type": "code",
   "execution_count": 10,
   "metadata": {},
   "outputs": [
    {
     "name": "stdout",
     "output_type": "stream",
     "text": [
      "(7352, 128, 9)\n",
      "(7352,)\n",
      "(2947, 128, 9)\n",
      "(2947,)\n",
      "[[  1.80851493e-04   1.07668098e-02   5.55606782e-02 ...,   1.01281703e+00\n",
      "   -1.23216704e-01   1.02934100e-01]\n",
      " [  1.01385601e-02   6.57948013e-03   5.51248305e-02 ...,   1.02283299e+00\n",
      "   -1.26875594e-01   1.05687201e-01]\n",
      " [  9.27557424e-03   8.92887823e-03   4.84047309e-02 ...,   1.02202797e+00\n",
      "   -1.24003701e-01   1.02102503e-01]\n",
      " ..., \n",
      " [ -1.14748406e-03   1.71443899e-04   2.64786393e-03 ...,   1.01844501e+00\n",
      "   -1.24069601e-01   1.00385197e-01]\n",
      " [ -2.22265502e-04   1.57418102e-03   2.38105701e-03 ...,   1.01937199e+00\n",
      "   -1.22745097e-01   9.98735502e-02]\n",
      " [  1.57550001e-03   3.07018892e-03  -2.26975698e-03 ...,   1.02117097e+00\n",
      "   -1.21325999e-01   9.49874073e-02]]\n",
      "5\n",
      "(1000, 128, 9)\n",
      "(1000,)\n",
      "(300, 128, 9)\n",
      "(300,)\n"
     ]
    }
   ],
   "source": [
    "\n",
    "def load_X(X_signals_paths):\n",
    "    X_signals = []\n",
    "    \n",
    "    for signal_type_path in X_signals_paths:\n",
    "        file = open(signal_type_path, 'r')\n",
    "        # Read dataset from disk, dealing with text files' syntax\n",
    "        X_signals.append(\n",
    "            [np.array(serie, dtype=np.float32) for serie in \n",
    "             [row.replace('  ', ' ').strip().split(' ') for row in file]\n",
    "            ]\n",
    "        )\n",
    "        file.close()\n",
    "    \n",
    "    return np.transpose(np.array(X_signals), (1, 2, 0))\n",
    "\n",
    "\n",
    "def load_y(y_path):\n",
    "    file = open(y_path, 'r')\n",
    "    # Read dataset from disk, dealing with text file's syntax\n",
    "    y_ = np.array(\n",
    "        [elem for elem in [\n",
    "            row.replace('  ', ' ').strip().split(' ') for row in file\n",
    "        ]], \n",
    "        dtype=np.int32\n",
    "    )\n",
    "    file.close()\n",
    "    return y_\n",
    "\n",
    "\n",
    "X_train_input_paths = [\"data/train/\" + signal + \"train.txt\" for signal in INPUT_DATA]\n",
    "X_test_input_paths = [\"data/test/\" + signal + \"test.txt\" for signal in INPUT_DATA]\n",
    "X_train = load_X(X_train_input_paths)\n",
    "X_test = load_X(X_test_input_paths)\n",
    "\n",
    "y_train_path = \"data/y_train.txt\"\n",
    "y_test_path = \"data/y_test.txt\"\n",
    "Y_train = load_y(y_train_path).ravel()\n",
    "Y_test = load_y(y_test_path).ravel()\n",
    "\n",
    "print(X_train.shape)\n",
    "print(Y_train.shape)\n",
    "print(X_test.shape)\n",
    "print(Y_test.shape)\n",
    "\n",
    "print(X_train[0])\n",
    "print(Y_train[0])\n",
    "\n",
    "X = X_train[0:TRAINING_SIZE]\n",
    "Y = Y_train[0:TRAINING_SIZE]\n",
    "Xt = X_test[0:TESTING_SIZE]\n",
    "Yt = Y_test[0:TESTING_SIZE]\n",
    "\n",
    "print(X.shape)\n",
    "print(Y.shape)\n",
    "print(Xt.shape)\n",
    "print(Yt.shape)\n",
    "\n",
    "np.savetxt(\"data/test_data_format.csv\", X[0], delimiter=\",\")\n"
   ]
  },
  {
   "cell_type": "code",
   "execution_count": 11,
   "metadata": {},
   "outputs": [],
   "source": [
    "plt.figure(figsize=(11,7))\n",
    "colors = ['#D62728','#2C9F2C','#FD7F23','#1F77B4','#9467BD',\n",
    "          '#8C564A','#7F7F7F','#1FBECF','#E377C2','#BCBD27']\n",
    "\n",
    "for i, r in enumerate([0,27,65,100,145,172]):\n",
    "    plt.subplot(3,2,i+1)\n",
    "    plt.plot(X[r][:100], label=LABELS[Y[r]-1], color=colors[i], linewidth=2)\n",
    "    plt.xlabel('Samples @50Hz')\n",
    "    plt.legend(loc='upper left')\n",
    "    plt.tight_layout()"
   ]
  },
  {
   "cell_type": "code",
   "execution_count": 17,
   "metadata": {},
   "outputs": [
    {
     "name": "stdout",
     "output_type": "stream",
     "text": [
      "0.731\n",
      "{'n_neighbors': 2, 'weights': 'uniform'}\n",
      "0.547\n",
      "{'weights': 'distance', 'n_neighbors': 10}\n"
     ]
    }
   ],
   "source": [
    "#KNN\n",
    "\n",
    "\n",
    "# define the parameter values that should be searched\n",
    "k_range = list(range(1, 31))\n",
    "weight_options = ['uniform', 'distance']\n",
    "param_dist = dict(n_neighbors=k_range, weights=weight_options)\n",
    "grid = GridSearchCV(knn(), param_dist, cv=4, scoring='accuracy')\n",
    "grid.fit(X.reshape(X.shape[0], X.shape[1]*X.shape[2]), Y)\n",
    "\n",
    "#print(grid.grid_scores_)\n",
    "#grid_mean_scores = [result.mean_validation_score for result in grid.grid_scores_]\n",
    "#print(grid_mean_scores)\n",
    "print(grid.best_score_)\n",
    "print(grid.best_params_)\n",
    "\n",
    "# plot the results\n",
    "#plt.plot(k_range, grid_mean_scores)\n",
    "#plt.xlabel('Value of K for KNN')\n",
    "#plt.ylabel('Cross-Validated Accuracy')\n",
    "\n",
    "\n",
    "rand = RandomizedSearchCV(knn(), param_dist, cv=4, scoring='accuracy', n_iter=10, random_state=5)\n",
    "rand.fit(X.reshape(X.shape[0], X.shape[1]*X.shape[2]), Y)\n",
    "\n",
    "#print(rand.grid_scores_)\n",
    "#rand_mean_scores = [result.mean_validation_score for result in rand.grid_scores_]\n",
    "#print(rand_mean_scores)\n",
    "print(rand.best_score_)\n",
    "print(rand.best_params_)\n",
    "\n",
    "#plt.plot(k_range, rand_mean_scores)\n",
    "#plt.xlabel('Value of K for KNN')\n",
    "#plt.ylabel('Cross-Validated Accuracy')\n"
   ]
  },
  {
   "cell_type": "code",
   "execution_count": 18,
   "metadata": {},
   "outputs": [
    {
     "name": "stdout",
     "output_type": "stream",
     "text": [
      "Accuracy Rate:\n",
      "0.55\n",
      "[[ 8  0  0  0 51  0]\n",
      " [ 2 31  0  0 13  0]\n",
      " [ 4  7  6  1 29  0]\n",
      " [ 0  0  0 18 28  0]\n",
      " [ 0  0  0  0 54  0]\n",
      " [ 0  0  0  0  0 48]]\n",
      "Accuracy Rate:\n",
      "0.413333333333\n",
      "[[ 0  0  0  0 59  0]\n",
      " [ 0  8  0  0 38  0]\n",
      " [ 0  1  1  0 45  0]\n",
      " [ 0  0  0 13 33  0]\n",
      " [ 0  0  0  0 54  0]\n",
      " [ 0  0  0  0  0 48]]\n"
     ]
    }
   ],
   "source": [
    "Y_pred = grid.predict(Xt.reshape(Xt.shape[0], Xt.shape[1]*Xt.shape[2]))\n",
    "print(\"Accuracy Rate:\")\n",
    "print(metrics.accuracy_score(Yt, Y_pred))\n",
    "print(metrics.confusion_matrix(Yt, Y_pred))\n",
    "\n",
    "Y_pred1 = rand.predict(Xt.reshape(Xt.shape[0], Xt.shape[1]*Xt.shape[2]))\n",
    "print(\"Accuracy Rate:\")\n",
    "print(metrics.accuracy_score(Yt, Y_pred1))\n",
    "print(metrics.confusion_matrix(Yt, Y_pred1))\n",
    "\n"
   ]
  },
  {
   "cell_type": "code",
   "execution_count": 19,
   "metadata": {},
   "outputs": [
    {
     "name": "stdout",
     "output_type": "stream",
     "text": [
      "Precision: 75.49413533834586%\n",
      "Recall: 55.00000000000001%\n",
      "f1_score: 52.156523073626104%\n",
      "\n",
      "Confusion Matrix:\n",
      "[[ 8  0  0  0 51  0]\n",
      " [ 2 31  0  0 13  0]\n",
      " [ 4  7  6  1 29  0]\n",
      " [ 0  0  0 18 28  0]\n",
      " [ 0  0  0  0 54  0]\n",
      " [ 0  0  0  0  0 48]]\n",
      "\n",
      "Confusion matrix (normalised to % of total test data):\n",
      "[[  2.66666675   0.           0.           0.          17.           0.        ]\n",
      " [  0.66666669  10.33333302   0.           0.           4.33333349   0.        ]\n",
      " [  1.33333337   2.33333325   2.           0.33333334   9.66666603   0.        ]\n",
      " [  0.           0.           0.           6.           9.33333302   0.        ]\n",
      " [  0.           0.           0.           0.          18.           0.        ]\n",
      " [  0.           0.           0.           0.           0.          16.        ]]\n",
      "Note: training and testing data is not equally distributed amongst classes, \n",
      "so it is normal that more than a 6th of the data is correctly classifier in the last category.\n"
     ]
    },
    {
     "data": {
      "image/png": "[encoded data removed]",
      "text/plain": [
       "<matplotlib.figure.Figure at 0x11be0f4e0>"
      ]
     },
     "metadata": {},
     "output_type": "display_data"
    },
    {
     "data": {
      "image/png": "[encoded data removed]",
      "text/plain": [
       "<matplotlib.figure.Figure at 0x11c05ccf8>"
      ]
     },
     "metadata": {},
     "output_type": "display_data"
    }
   ],
   "source": [
    "\n",
    "print(\"Precision: {}%\".format(100*metrics.precision_score(Yt, Y_pred, average=\"weighted\")))\n",
    "print(\"Recall: {}%\".format(100*metrics.recall_score(Yt, Y_pred, average=\"weighted\")))\n",
    "print(\"f1_score: {}%\".format(100*metrics.f1_score(Yt, Y_pred, average=\"weighted\")))\n",
    "\n",
    "print(\"\")\n",
    "print(\"Confusion Matrix:\")\n",
    "confusion_matrix = metrics.confusion_matrix(Yt, Y_pred)\n",
    "print(confusion_matrix)\n",
    "normalised_confusion_matrix = np.array(confusion_matrix, dtype=np.float32)/np.sum(confusion_matrix)*100\n",
    "\n",
    "print(\"\")\n",
    "print(\"Confusion matrix (normalised to % of total test data):\")\n",
    "print(normalised_confusion_matrix)\n",
    "print(\"Note: training and testing data is not equally distributed amongst classes, \")\n",
    "print(\"so it is normal that more than a 6th of the data is correctly classifier in the last category.\")\n",
    "\n",
    "# Plot Results: \n",
    "width = 12\n",
    "height = 12\n",
    "plt.figure(figsize=(width, height))\n",
    "plt.imshow(\n",
    "    normalised_confusion_matrix, \n",
    "    interpolation='nearest', \n",
    "    cmap=plt.cm.rainbow\n",
    ")\n",
    "plt.title(\"Confusion matrix \\n(normalised to % of total test data)\")\n",
    "plt.colorbar()\n",
    "tick_marks = np.arange(len(LABELS))\n",
    "plt.xticks(tick_marks, LABELS, rotation=90)\n",
    "plt.yticks(tick_marks, LABELS)\n",
    "plt.tight_layout()\n",
    "plt.ylabel('True label')\n",
    "plt.xlabel('Predicted label')\n",
    "plt.show()"
   ]
  },
  {
   "cell_type": "code",
   "execution_count": null,
   "metadata": {
    "collapsed": true
   },
   "outputs": [],
   "source": []
  }
 ],
 "metadata": {
  "kernelspec": {
   "display_name": "Python 3",
   "language": "python",
   "name": "python3"
  },
  "language_info": {
   "codemirror_mode": {
    "name": "ipython",
    "version": 3
   },
   "file_extension": ".py",
   "mimetype": "text/x-python",
   "name": "python",
   "nbconvert_exporter": "python",
   "pygments_lexer": "ipython3",
   "version": "3.6.1"
  }
 },
 "nbformat": 4,
 "nbformat_minor": 2
}
