{
 "cells": [
  {
   "cell_type": "code",
   "execution_count": 2,
   "metadata": {},
   "outputs": [
    {
     "name": "stderr",
     "output_type": "stream",
     "text": [
      "/Users/arshanrahman/anaconda/lib/python3.6/site-packages/sklearn/cross_validation.py:41: DeprecationWarning: This module was deprecated in version 0.18 in favor of the model_selection module into which all the refactored classes and functions are moved. Also note that the interface of the new CV iterators are different from that of this module. This module will be removed in 0.20.\n",
      "  \"This module will be removed in 0.20.\", DeprecationWarning)\n",
      "/Users/arshanrahman/anaconda/lib/python3.6/site-packages/sklearn/grid_search.py:42: DeprecationWarning: This module was deprecated in version 0.18 in favor of the model_selection module into which all the refactored classes and functions are moved. This module will be removed in 0.20.\n",
      "  DeprecationWarning)\n"
     ]
    }
   ],
   "source": [
    "import pandas as pd\n",
    "import numpy as np\n",
    "from sklearn.linear_model import LogisticRegression\n",
    "from sklearn.svm import SVC\n",
    "from sklearn.cross_validation import train_test_split\n",
    "from sklearn.cross_validation import cross_val_score\n",
    "from sklearn.grid_search import RandomizedSearchCV\n",
    "from sklearn import metrics\n",
    "import matplotlib.pyplot as plt\n"
   ]
  },
  {
   "cell_type": "code",
   "execution_count": 5,
   "metadata": {},
   "outputs": [
    {
     "data": {
      "text/plain": [
       "'\\nCOLUMNS = [\\'gx\\',\\'gy\\',\\'gz\\', \\'tax\\', \\'tay\\', \\'taz\\']\\n\\nX_train = pd.DataFrame(COLUMNS)\\nfor i in range(0,6):\\n    X_train[i] = pd.read_csv(\\'data/train/\\'+INPUT_DATA[3+i]+\\'train.txt\\', sep=\" \", header=None)\\n    X_test[i] = pd.read_csv(\\'data/test/\\'+INPUT_DATA[3+i]+\\'test.txt\\', sep=\" \", header=None)\\n\\n\\n\\n#X_train = pd.read_csv(\\'data/X_train.txt\\', sep=\" \", header=None)\\nY_train = pd.read_csv(\\'data/Y_train.txt\\', sep=\" \", header=None)\\n\\n#X_test = pd.read_csv(\\'data/X_test.txt\\', sep=\" \", header=None)\\nY_test = pd.read_csv(\\'data/Y_test.txt\\', sep=\" \", header=None)\\n\\nprint(X_train.shape)\\nprint(Y_train.shape)\\nprint(X_test.shape)\\nprint(Y_test.shape)\\n\\nX_train.head()\\nY_train.head()\\n\\nX = X_train[0:1000]\\nY = Y_train[0:1000]\\nXt = X_test[0:300]\\nYt = Y_test[0:300]\\n\\nprint(X.shape)\\nprint(Y.shape)\\nprint(Xt.shape)\\nprint(Yt.shape)\\n'"
      ]
     },
     "execution_count": 5,
     "metadata": {},
     "output_type": "execute_result"
    }
   ],
   "source": [
    "INPUT_DATA = [\n",
    "    \"body_acc_x_\",\n",
    "    \"body_acc_y_\",\n",
    "    \"body_acc_z_\",\n",
    "    \"body_gyro_x_\",\n",
    "    \"body_gyro_y_\",\n",
    "    \"body_gyro_z_\",\n",
    "    \"total_acc_x_\",\n",
    "    \"total_acc_y_\",\n",
    "    \"total_acc_z_\"\n",
    "]\n",
    "\n",
    "LABELS = [\n",
    "    \"WALKING\", \n",
    "    \"WALKING_UPSTAIRS\", \n",
    "    \"WALKING_DOWNSTAIRS\", \n",
    "    \"SITTING\", \n",
    "    \"STANDING\", \n",
    "    \"LAYING\"\n",
    "] \n",
    "\n",
    "TRAINING_SIZE = 1000\n",
    "TESTING_SIZE = 300\n",
    "\n",
    "'''\n",
    "COLUMNS = ['gx','gy','gz', 'tax', 'tay', 'taz']\n",
    "\n",
    "X_train = pd.DataFrame(COLUMNS)\n",
    "for i in range(0,6):\n",
    "    X_train[i] = pd.read_csv('data/train/'+INPUT_DATA[3+i]+'train.txt', sep=\" \", header=None)\n",
    "    X_test[i] = pd.read_csv('data/test/'+INPUT_DATA[3+i]+'test.txt', sep=\" \", header=None)\n",
    "\n",
    "\n",
    "\n",
    "#X_train = pd.read_csv('data/X_train.txt', sep=\" \", header=None)\n",
    "Y_train = pd.read_csv('data/Y_train.txt', sep=\" \", header=None)\n",
    "\n",
    "#X_test = pd.read_csv('data/X_test.txt', sep=\" \", header=None)\n",
    "Y_test = pd.read_csv('data/Y_test.txt', sep=\" \", header=None)\n",
    "\n",
    "print(X_train.shape)\n",
    "print(Y_train.shape)\n",
    "print(X_test.shape)\n",
    "print(Y_test.shape)\n",
    "\n",
    "X_train.head()\n",
    "Y_train.head()\n",
    "\n",
    "X = X_train[0:1000]\n",
    "Y = Y_train[0:1000]\n",
    "Xt = X_test[0:300]\n",
    "Yt = Y_test[0:300]\n",
    "\n",
    "print(X.shape)\n",
    "print(Y.shape)\n",
    "print(Xt.shape)\n",
    "print(Yt.shape)\n",
    "'''"
   ]
  },
  {
   "cell_type": "code",
   "execution_count": 6,
   "metadata": {},
   "outputs": [
    {
     "name": "stdout",
     "output_type": "stream",
     "text": [
      "(7352, 128, 9)\n",
      "(7352,)\n",
      "(2947, 128, 9)\n",
      "(2947,)\n",
      "[[  1.80851493e-04   1.07668098e-02   5.55606782e-02 ...,   1.01281703e+00\n",
      "   -1.23216704e-01   1.02934100e-01]\n",
      " [  1.01385601e-02   6.57948013e-03   5.51248305e-02 ...,   1.02283299e+00\n",
      "   -1.26875594e-01   1.05687201e-01]\n",
      " [  9.27557424e-03   8.92887823e-03   4.84047309e-02 ...,   1.02202797e+00\n",
      "   -1.24003701e-01   1.02102503e-01]\n",
      " ..., \n",
      " [ -1.14748406e-03   1.71443899e-04   2.64786393e-03 ...,   1.01844501e+00\n",
      "   -1.24069601e-01   1.00385197e-01]\n",
      " [ -2.22265502e-04   1.57418102e-03   2.38105701e-03 ...,   1.01937199e+00\n",
      "   -1.22745097e-01   9.98735502e-02]\n",
      " [  1.57550001e-03   3.07018892e-03  -2.26975698e-03 ...,   1.02117097e+00\n",
      "   -1.21325999e-01   9.49874073e-02]]\n",
      "5\n",
      "(1000, 128, 9)\n",
      "(1000,)\n",
      "(300, 128, 9)\n",
      "(300,)\n"
     ]
    }
   ],
   "source": [
    "\n",
    "def load_X(X_signals_paths):\n",
    "    X_signals = []\n",
    "    \n",
    "    for signal_type_path in X_signals_paths:\n",
    "        file = open(signal_type_path, 'r')\n",
    "        # Read dataset from disk, dealing with text files' syntax\n",
    "        X_signals.append(\n",
    "            [np.array(serie, dtype=np.float32) for serie in \n",
    "             [row.replace('  ', ' ').strip().split(' ') for row in file]\n",
    "            ]\n",
    "        )\n",
    "        file.close()\n",
    "    \n",
    "    return np.transpose(np.array(X_signals), (1, 2, 0))\n",
    "\n",
    "\n",
    "def load_y(y_path):\n",
    "    file = open(y_path, 'r')\n",
    "    # Read dataset from disk, dealing with text file's syntax\n",
    "    y_ = np.array(\n",
    "        [elem for elem in [\n",
    "            row.replace('  ', ' ').strip().split(' ') for row in file\n",
    "        ]], \n",
    "        dtype=np.int32\n",
    "    )\n",
    "    file.close()\n",
    "    return y_\n",
    "\n",
    "\n",
    "X_train_input_paths = [\"data/train/\" + signal + \"train.txt\" for signal in INPUT_DATA]\n",
    "X_test_input_paths = [\"data/test/\" + signal + \"test.txt\" for signal in INPUT_DATA]\n",
    "X_train = load_X(X_train_input_paths)\n",
    "X_test = load_X(X_test_input_paths)\n",
    "\n",
    "y_train_path = \"data/y_train.txt\"\n",
    "y_test_path = \"data/y_test.txt\"\n",
    "Y_train = load_y(y_train_path).ravel()\n",
    "Y_test = load_y(y_test_path).ravel()\n",
    "\n",
    "print(X_train.shape)\n",
    "print(Y_train.shape)\n",
    "print(X_test.shape)\n",
    "print(Y_test.shape)\n",
    "\n",
    "print(X_train[0])\n",
    "print(Y_train[0])\n",
    "\n",
    "X = X_train[0:TRAINING_SIZE]\n",
    "Y = Y_train[0:TRAINING_SIZE]\n",
    "Xt = X_test[0:TESTING_SIZE]\n",
    "Yt = Y_test[0:TESTING_SIZE]\n",
    "\n",
    "print(X.shape)\n",
    "print(Y.shape)\n",
    "print(Xt.shape)\n",
    "print(Yt.shape)\n",
    "\n",
    "np.savetxt(\"data/test_data_format.csv\", X[0], delimiter=\",\")\n"
   ]
  },
  {
   "cell_type": "code",
   "execution_count": 9,
   "metadata": {},
   "outputs": [
    {
     "name": "stdout",
     "output_type": "stream",
     "text": [
      "0.586 (+/-0.084) for {'kernel': 'rbf', 'gamma': 0.10000000000000001, 'C': 0.10000000000000001}\n",
      "0.636 (+/-0.059) for {'kernel': 'rbf', 'gamma': 0.10000000000000001, 'C': 100.0}\n",
      "0.465 (+/-0.067) for {'kernel': 'rbf', 'gamma': 0.0001, 'C': 3.1622776601683795}\n",
      "0.209 (+/-0.001) for {'kernel': 'rbf', 'gamma': 0.10000000000000001, 'C': 0.0031622776601683794}\n",
      "0.209 (+/-0.001) for {'kernel': 'rbf', 'gamma': 0.0001, 'C': 0.10000000000000001}\n",
      "0.209 (+/-0.001) for {'kernel': 'rbf', 'gamma': 100.0, 'C': 3.1622776601683795}\n",
      "0.637 (+/-0.058) for {'kernel': 'rbf', 'gamma': 0.10000000000000001, 'C': 3.1622776601683795}\n",
      "0.209 (+/-0.001) for {'kernel': 'rbf', 'gamma': 100.0, 'C': 0.10000000000000001}\n",
      "0.209 (+/-0.001) for {'kernel': 'rbf', 'gamma': 0.0001, 'C': 0.0001}\n",
      "0.209 (+/-0.001) for {'kernel': 'rbf', 'gamma': 100.0, 'C': 0.0031622776601683794}\n",
      "The best performing gamma value is:  0.10\n",
      "The best performing C value is:  3.16\n",
      "Best score\n",
      "0.637\n",
      "Best parameters set found on training set:\n",
      "{'kernel': 'rbf', 'gamma': 0.10000000000000001, 'C': 3.1622776601683795}\n",
      "\n",
      "[mean: 0.58600, std: 0.04187, params: {'kernel': 'rbf', 'gamma': 0.10000000000000001, 'C': 0.10000000000000001}, mean: 0.63600, std: 0.02930, params: {'kernel': 'rbf', 'gamma': 0.10000000000000001, 'C': 100.0}, mean: 0.46500, std: 0.03342, params: {'kernel': 'rbf', 'gamma': 0.0001, 'C': 3.1622776601683795}, mean: 0.20900, std: 0.00060, params: {'kernel': 'rbf', 'gamma': 0.10000000000000001, 'C': 0.0031622776601683794}, mean: 0.20900, std: 0.00060, params: {'kernel': 'rbf', 'gamma': 0.0001, 'C': 0.10000000000000001}, mean: 0.20900, std: 0.00060, params: {'kernel': 'rbf', 'gamma': 100.0, 'C': 3.1622776601683795}, mean: 0.63700, std: 0.02897, params: {'kernel': 'rbf', 'gamma': 0.10000000000000001, 'C': 3.1622776601683795}, mean: 0.20900, std: 0.00060, params: {'kernel': 'rbf', 'gamma': 100.0, 'C': 0.10000000000000001}, mean: 0.20900, std: 0.00060, params: {'kernel': 'rbf', 'gamma': 0.0001, 'C': 0.0001}, mean: 0.20900, std: 0.00060, params: {'kernel': 'rbf', 'gamma': 100.0, 'C': 0.0031622776601683794}]\n",
      "\n"
     ]
    },
    {
     "ename": "NameError",
     "evalue": "name 'validation_feature_matrix' is not defined",
     "output_type": "error",
     "traceback": [
      "\u001b[0;31m---------------------------------------------------------------------------\u001b[0m",
      "\u001b[0;31mNameError\u001b[0m                                 Traceback (most recent call last)",
      "\u001b[0;32m<ipython-input-9-c0b47da9d374>\u001b[0m in \u001b[0;36m<module>\u001b[0;34m()\u001b[0m\n\u001b[1;32m     35\u001b[0m \u001b[0;34m\u001b[0m\u001b[0m\n\u001b[1;32m     36\u001b[0m \u001b[0;34m\u001b[0m\u001b[0m\n\u001b[0;32m---> 37\u001b[0;31m \u001b[0mpredicted_labels\u001b[0m \u001b[0;34m=\u001b[0m \u001b[0msvm\u001b[0m\u001b[0;34m.\u001b[0m\u001b[0mpredict\u001b[0m\u001b[0;34m(\u001b[0m\u001b[0mvalidation_feature_matrix\u001b[0m\u001b[0;34m)\u001b[0m\u001b[0;34m\u001b[0m\u001b[0m\n\u001b[0m\u001b[1;32m     38\u001b[0m \u001b[0;32mif\u001b[0m \u001b[0mvalidation_targets\u001b[0m \u001b[0;32mis\u001b[0m \u001b[0;32mnot\u001b[0m \u001b[0;32mNone\u001b[0m\u001b[0;34m:\u001b[0m \u001b[0;31m# Evaluate performance on the validation data.\u001b[0m\u001b[0;34m\u001b[0m\u001b[0m\n\u001b[1;32m     39\u001b[0m     \u001b[0mlogReport\u001b[0m \u001b[0;34m=\u001b[0m \u001b[0mlogReport\u001b[0m \u001b[0;34m+\u001b[0m \u001b[0;34m\"SVM Validation Accuracy [%0.3f]\"\u001b[0m \u001b[0;34m%\u001b[0m \u001b[0;34m(\u001b[0m\u001b[0;34m(\u001b[0m\u001b[0mpredicted_labels\u001b[0m \u001b[0;34m==\u001b[0m \u001b[0mvalidation_targets\u001b[0m\u001b[0;34m)\u001b[0m\u001b[0;34m.\u001b[0m\u001b[0mmean\u001b[0m\u001b[0;34m(\u001b[0m\u001b[0;34m)\u001b[0m\u001b[0;34m)\u001b[0m\u001b[0;34m\u001b[0m\u001b[0m\n",
      "\u001b[0;31mNameError\u001b[0m: name 'validation_feature_matrix' is not defined"
     ]
    }
   ],
   "source": [
    "#SVM\n",
    "\n",
    "param_dist = {\n",
    "    'kernel': ['rbf'],\n",
    "    'gamma': np.logspace(-4, 2, 3),\n",
    "    'C': np.logspace(-4, 2, 5),\n",
    "}\n",
    "svm = SVC(probability=True)\n",
    "clf = RandomizedSearchCV(\n",
    "    estimator=svm,\n",
    "    param_distributions=param_dist,\n",
    "    cv=5,\n",
    ")\n",
    "clf.fit(X.reshape(X.shape[0], X.shape[1]*X.shape[2]), Y)\n",
    "\n",
    "for params, mean_score, scores in clf.grid_scores_:\n",
    "    print(\"%0.3f (+/-%0.03f) for %r\" % (mean_score, scores.std() * 2, params))\n",
    "\n",
    "best_gamma  = clf.best_params_['gamma']\n",
    "best_C      = clf.best_params_['C']\n",
    "\n",
    "print(\"The best performing gamma value is: {:5.2f}\".format(best_gamma))\n",
    "print(\"The best performing C value is: {:5.2f}\".format(best_C))\n",
    "\n",
    "print(\"Best score\")\n",
    "print(clf.best_score_)\n",
    "print(\"Best parameters set found on training set:\")\n",
    "print(clf.best_params_)\n",
    "print()\n",
    "print(clf.grid_scores_)\n",
    "print()\n",
    "    \n",
    "svm = SVC(kernel='rbf', C=clf.best_params_['C'], gamma=clf.best_params_['gamma'])\n",
    "svm.fit(X.reshape(X.shape[0], X.shape[1]*X.shape[2]), Y)\n",
    "Y_pred = svm.predict(Xt.reshape(Xt.shape[0], Xt.shape[1]*Xt.shape[2]))\n",
    "print(\"Accuracy Rate:\")\n",
    "print(metrics.accuracy_score(Yt, Y_pred))\n",
    "print(metrics.confusion_matrix(Yt, Y_pred))\n"
   ]
  },
  {
   "cell_type": "code",
   "execution_count": 8,
   "metadata": {},
   "outputs": [
    {
     "name": "stderr",
     "output_type": "stream",
     "text": [
      "/Users/arshanrahman/anaconda/lib/python3.6/site-packages/sklearn/metrics/classification.py:1135: UndefinedMetricWarning: Precision is ill-defined and being set to 0.0 in labels with no predicted samples.\n",
      "  'precision', 'predicted', average, warn_for)\n",
      "/Users/arshanrahman/anaconda/lib/python3.6/site-packages/sklearn/metrics/classification.py:1135: UndefinedMetricWarning: F-score is ill-defined and being set to 0.0 in labels with no predicted samples.\n",
      "  'precision', 'predicted', average, warn_for)\n"
     ]
    },
    {
     "name": "stdout",
     "output_type": "stream",
     "text": [
      "Precision: 48.326903932304624%\n",
      "Recall: 50.33333333333333%\n",
      "f1_score: 37.777944698987966%\n",
      "\n",
      "Confusion Matrix:\n",
      "[[59  0  0  0  0  0]\n",
      " [46  0  0  0  0  0]\n",
      " [47  0  0  0  0  0]\n",
      " [ 1  0  0  1 44  0]\n",
      " [ 0  0  0  0 54  0]\n",
      " [11  0  0  0  0 37]]\n",
      "\n",
      "Confusion matrix (normalised to % of total test data):\n",
      "[[ 19.66666794   0.           0.           0.           0.           0.        ]\n",
      " [ 15.33333397   0.           0.           0.           0.           0.        ]\n",
      " [ 15.66666698   0.           0.           0.           0.           0.        ]\n",
      " [  0.33333334   0.           0.           0.33333334  14.66666603   0.        ]\n",
      " [  0.           0.           0.           0.          18.           0.        ]\n",
      " [  3.66666651   0.           0.           0.           0.          12.33333397]]\n",
      "Note: training and testing data is not equally distributed amongst classes, \n",
      "so it is normal that more than a 6th of the data is correctly classifier in the last category.\n"
     ]
    },
    {
     "data": {
      "image/png": "[encoded data removed]",
      "text/plain": [
       "<matplotlib.figure.Figure at 0x114bf4390>"
      ]
     },
     "metadata": {},
     "output_type": "display_data"
    }
   ],
   "source": [
    "\n",
    "print(\"Precision: {}%\".format(100*metrics.precision_score(Yt, Y_pred, average=\"weighted\")))\n",
    "print(\"Recall: {}%\".format(100*metrics.recall_score(Yt, Y_pred, average=\"weighted\")))\n",
    "print(\"f1_score: {}%\".format(100*metrics.f1_score(Yt, Y_pred, average=\"weighted\")))\n",
    "\n",
    "print(\"\")\n",
    "print(\"Confusion Matrix:\")\n",
    "confusion_matrix = metrics.confusion_matrix(Yt, Y_pred)\n",
    "print(confusion_matrix)\n",
    "normalised_confusion_matrix = np.array(confusion_matrix, dtype=np.float32)/np.sum(confusion_matrix)*100\n",
    "\n",
    "print(\"\")\n",
    "print(\"Confusion matrix (normalised to % of total test data):\")\n",
    "print(normalised_confusion_matrix)\n",
    "print(\"Note: training and testing data is not equally distributed amongst classes, \")\n",
    "print(\"so it is normal that more than a 6th of the data is correctly classifier in the last category.\")\n",
    "\n",
    "# Plot Results: \n",
    "width = 12\n",
    "height = 12\n",
    "plt.figure(figsize=(width, height))\n",
    "plt.imshow(\n",
    "    normalised_confusion_matrix, \n",
    "    interpolation='nearest', \n",
    "    cmap=plt.cm.rainbow\n",
    ")\n",
    "plt.title(\"Confusion matrix \\n(normalised to % of total test data)\")\n",
    "plt.colorbar()\n",
    "tick_marks = np.arange(len(LABELS))\n",
    "plt.xticks(tick_marks, LABELS, rotation=90)\n",
    "plt.yticks(tick_marks, LABELS)\n",
    "plt.tight_layout()\n",
    "plt.ylabel('True label')\n",
    "plt.xlabel('Predicted label')\n",
    "plt.show()"
   ]
  },
  {
   "cell_type": "code",
   "execution_count": null,
   "metadata": {
    "collapsed": true
   },
   "outputs": [],
   "source": []
  }
 ],
 "metadata": {
  "kernelspec": {
   "display_name": "Python 3",
   "language": "python",
   "name": "python3"
  },
  "language_info": {
   "codemirror_mode": {
    "name": "ipython",
    "version": 3
   },
   "file_extension": ".py",
   "mimetype": "text/x-python",
   "name": "python",
   "nbconvert_exporter": "python",
   "pygments_lexer": "ipython3",
   "version": "3.6.1"
  }
 },
 "nbformat": 4,
 "nbformat_minor": 2
}
